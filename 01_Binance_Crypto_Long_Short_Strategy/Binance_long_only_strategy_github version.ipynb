{
 "cells": [
  {
   "cell_type": "markdown",
   "id": "75442da2",
   "metadata": {},
   "source": [
    "# Binance Long Only Strategy\n",
    "\n",
    "A not profitable demo strategy using the binance python wrapper and telegram notifications"
   ]
  },
  {
   "cell_type": "code",
   "execution_count": 1,
   "id": "e12291c3",
   "metadata": {},
   "outputs": [],
   "source": [
    "# Demo Account API and Secret Key\n",
    "api_key = 'api key'\n",
    "api_secret = 'secret key'"
   ]
  },
  {
   "cell_type": "code",
   "execution_count": 2,
   "id": "5cb6b406",
   "metadata": {},
   "outputs": [],
   "source": [
    "from binance.client import Client\n",
    "from binance import ThreadedWebsocketManager\n",
    "import pandas as pd\n",
    "from datetime import datetime, timedelta\n",
    "import numpy as np\n",
    "import requests"
   ]
  },
  {
   "cell_type": "code",
   "execution_count": 3,
   "id": "5d254916",
   "metadata": {},
   "outputs": [],
   "source": [
    "client = Client(api_key = api_key, api_secret = api_secret, tld = \"com\", testnet = True)\n"
   ]
  },
  {
   "cell_type": "markdown",
   "id": "5655e05a",
   "metadata": {},
   "source": [
    "# The  LongOnlyTrader Class"
   ]
  },
  {
   "cell_type": "code",
   "execution_count": 4,
   "id": "deb36c1b",
   "metadata": {},
   "outputs": [],
   "source": [
    "class LongOnlyTrader():\n",
    "    \n",
    "    def __init__(self, symbol, bar_length, return_thresh, volume_thresh, units, position = 0):\n",
    "        \n",
    "        self.symbol = symbol\n",
    "        self.bar_length = bar_length\n",
    "        self.available_intervals = [\"1m\", \"3m\", \"5m\", \"15m\", \"30m\", \"1h\", \"2h\", \"4h\", \"6h\", \"8h\", \"12h\", \"1d\", \"3d\", \"1w\", \"1M\"]\n",
    "        self.units = units\n",
    "        self.position = position\n",
    "        self.trades = 0 \n",
    "        self.trade_values = [] \n",
    "        \n",
    "        #*****************strategy-specific attributes here******************\n",
    "        self.return_thresh = return_thresh\n",
    "        self.volume_thresh = volume_thresh\n",
    "        #************************************************************************\n",
    "    \n",
    "    def start_trading(self, historical_days):\n",
    "        \n",
    "        self.twm = ThreadedWebsocketManager()\n",
    "        self.twm.start()\n",
    "        \n",
    "        if self.bar_length in self.available_intervals:\n",
    "            self.get_most_recent(symbol = self.symbol, interval = self.bar_length,\n",
    "                                 days = historical_days)\n",
    "            self.twm.start_kline_socket(callback = self.stream_candles,\n",
    "                                        symbol = self.symbol, interval = self.bar_length)\n",
    "         \n",
    "    \n",
    "    def get_most_recent(self, symbol, interval, days):\n",
    "    \n",
    "        now = datetime.utcnow()\n",
    "        past = str(now - timedelta(days = days))\n",
    "    \n",
    "        bars = client.get_historical_klines(symbol = symbol, interval = interval,\n",
    "                                            start_str = past, end_str = None, limit = 1000)\n",
    "        df = pd.DataFrame(bars)\n",
    "        df[\"Date\"] = pd.to_datetime(df.iloc[:,0], unit = \"ms\")\n",
    "        df.columns = [\"Open Time\", \"Open\", \"High\", \"Low\", \"Close\", \"Volume\",\n",
    "                      \"Clos Time\", \"Quote Asset Volume\", \"Number of Trades\",\n",
    "                      \"Taker Buy Base Asset Volume\", \"Taker Buy Quote Asset Volume\", \"Ignore\", \"Date\"]\n",
    "        df = df[[\"Date\", \"Open\", \"High\", \"Low\", \"Close\", \"Volume\"]].copy()\n",
    "        df.set_index(\"Date\", inplace = True)\n",
    "        for column in df.columns:\n",
    "            df[column] = pd.to_numeric(df[column], errors = \"coerce\")\n",
    "        df[\"Complete\"] = [True for row in range(len(df)-1)] + [False]\n",
    "        \n",
    "        self.data = df\n",
    "        \n",
    "    \n",
    "    def stream_candles(self, msg):\n",
    "        \n",
    "        # extract the required items from msg\n",
    "        event_time = pd.to_datetime(msg[\"E\"], unit = \"ms\")\n",
    "        start_time = pd.to_datetime(msg[\"k\"][\"t\"], unit = \"ms\")\n",
    "        first   = float(msg[\"k\"][\"o\"])\n",
    "        high    = float(msg[\"k\"][\"h\"])\n",
    "        low     = float(msg[\"k\"][\"l\"])\n",
    "        close   = float(msg[\"k\"][\"c\"])\n",
    "        volume  = float(msg[\"k\"][\"v\"])\n",
    "        complete=       msg[\"k\"][\"x\"]\n",
    "    \n",
    "        # print out\n",
    "        print(\".\", end = \"\", flush = True) # just print something to get a feedback (everything OK) \n",
    "    \n",
    "        # feed df (add new bar / update latest bar)\n",
    "        self.data.loc[start_time] = [first, high, low, close, volume, complete]\n",
    "        \n",
    "        # prepare features and define strategy/trading positions whenever the latest bar is complete\n",
    "        if complete == True:\n",
    "            self.define_strategy()\n",
    "            self.execute_trades()\n",
    "        \n",
    "    def define_strategy(self):\n",
    "        \n",
    "        df = self.data.copy()\n",
    "        \n",
    "        #******************** strategy definition ************************\n",
    "        df = df[[\"Close\", \"Volume\"]].copy()\n",
    "        df[\"returns\"] = np.log(df.Close / df.Close.shift())\n",
    "        df[\"vol_ch\"] = np.log(df.Volume.div(df.Volume.shift(1)))\n",
    "        df.loc[df.vol_ch > 3, \"vol_ch\"] = np.nan\n",
    "        df.loc[df.vol_ch < -3, \"vol_ch\"] = np.nan  \n",
    "        \n",
    "        cond1 = df.returns >= self.return_thresh\n",
    "        cond2 = df.vol_ch.between(self.volume_thresh[0], self.volume_thresh[1])\n",
    "        \n",
    "        df[\"position\"] = 1\n",
    "        df.loc[cond1 & cond2, \"position\"] = 0\n",
    "        #***********************************************************************\n",
    "        \n",
    "        self.prepared_data = df.copy()\n",
    "    \n",
    "    \n",
    "    def execute_trades(self): \n",
    "        \n",
    "        if self.prepared_data[\"position\"].iloc[-1] == 1: # if position is long -> go/stay long\n",
    "            if self.position == 0:\n",
    "                order = client.create_order(symbol = self.symbol, side = \"BUY\", type = \"MARKET\", quantity = self.units)\n",
    "                self.report_trade(order, \"GOING LONG\")\n",
    "                \n",
    "                \n",
    "                # Telegram message\n",
    "                time = pd.to_datetime(order[\"transactTime\"], unit = \"ms\")  \n",
    "                base_units = float(order[\"executedQty\"])\n",
    "                quote_units = float(order[\"cummulativeQuoteQty\"])\n",
    "                price = round(quote_units / base_units, 5)\n",
    "                message= 'Going Long'\n",
    "                base_url = 'https://api.telegram.org/bot5417801030:AAHUvpJLh9rlzobVq6OOaIB7hMlMeguMBcc/sendMessage?chat_id=-1001577030962&text={},{},{}'.format(message,time,price)\n",
    "                requests.get(base_url)\n",
    "\n",
    "            self.position = 1\n",
    "        elif self.prepared_data[\"position\"].iloc[-1] == 0: # if position is neutral -> go/stay neutral\n",
    "            if self.position == 1:\n",
    "                order = client.create_order(symbol = self.symbol, side = \"SELL\", type = \"MARKET\", quantity = self.units)\n",
    "                self.report_trade(order, \"GOING NEUTRAL\")  # NEW\n",
    "                \n",
    "                # Telegram message\n",
    "                base_units = float(order[\"executedQty\"])\n",
    "                quote_units = float(order[\"cummulativeQuoteQty\"])\n",
    "                time = pd.to_datetime(order[\"transactTime\"], unit = \"ms\")         \n",
    "                price = round(quote_units / base_units, 5)\n",
    "                message='Going Neutral'\n",
    "                base_url = 'https://api.telegram.org/bot5417801030:AAHUvpJLh9rlzobVq6OOaIB7hMlMeguMBcc/sendMessage?chat_id=-1001577030962&text={},{},{}'.format(message,time,price)\n",
    "                requests.get(base_url)\n",
    "            self.position = 0\n",
    "    \n",
    "    def report_trade(self, order, going):\n",
    "        \n",
    "        # extract data from order object\n",
    "        side = order[\"side\"]\n",
    "        time = pd.to_datetime(order[\"transactTime\"], unit = \"ms\")\n",
    "        base_units = float(order[\"executedQty\"])\n",
    "        quote_units = float(order[\"cummulativeQuoteQty\"])\n",
    "        price = round(quote_units / base_units, 5)\n",
    "        \n",
    "        # calculate trading profits\n",
    "        self.trades += 1\n",
    "        if side == \"BUY\":\n",
    "            self.trade_values.append(-quote_units)\n",
    "        elif side == \"SELL\":\n",
    "            self.trade_values.append(quote_units) \n",
    "        \n",
    "        if self.trades % 2 == 0:\n",
    "            real_profit = round(np.sum(self.trade_values[-2:]), 3) \n",
    "            cum_profits = round(np.sum(self.trade_values), 3)\n",
    "        else: \n",
    "            real_profit = 0\n",
    "            cum_profits = round(np.sum(self.trade_values[:-1]), 3)\n",
    "        \n",
    "        # print trade report\n",
    "        print(2 * \"\\n\" + 100* \"-\")\n",
    "        print(\"{} | {}\".format(time, going)) \n",
    "        print(\"{} | Base_Units = {} | Quote_Units = {} | Price = {} \".format(time, base_units, quote_units, price))\n",
    "        print(\"{} | Profit = {} | CumProfits = {} \".format(time, real_profit, cum_profits))\n",
    "        print(100 * \"-\" + \"\\n\")"
   ]
  },
  {
   "cell_type": "code",
   "execution_count": 5,
   "id": "51372eb7",
   "metadata": {},
   "outputs": [
    {
     "data": {
      "text/plain": [
       "{'makerCommission': 0,\n",
       " 'takerCommission': 0,\n",
       " 'buyerCommission': 0,\n",
       " 'sellerCommission': 0,\n",
       " 'canTrade': True,\n",
       " 'canWithdraw': False,\n",
       " 'canDeposit': False,\n",
       " 'updateTime': 1656615960723,\n",
       " 'accountType': 'SPOT',\n",
       " 'balances': [{'asset': 'BNB',\n",
       "   'free': '1000.00000000',\n",
       "   'locked': '0.00000000'},\n",
       "  {'asset': 'BTC', 'free': '1.03000000', 'locked': '0.00000000'},\n",
       "  {'asset': 'BUSD', 'free': '10000.00000000', 'locked': '0.00000000'},\n",
       "  {'asset': 'ETH', 'free': '100.00000000', 'locked': '0.00000000'},\n",
       "  {'asset': 'LTC', 'free': '500.00000000', 'locked': '0.00000000'},\n",
       "  {'asset': 'TRX', 'free': '500000.00000000', 'locked': '0.00000000'},\n",
       "  {'asset': 'USDT', 'free': '9428.01778008', 'locked': '0.00000000'},\n",
       "  {'asset': 'XRP', 'free': '50000.00000000', 'locked': '0.00000000'}],\n",
       " 'permissions': ['SPOT']}"
      ]
     },
     "execution_count": 5,
     "metadata": {},
     "output_type": "execute_result"
    }
   ],
   "source": [
    "client.get_account()"
   ]
  },
  {
   "cell_type": "code",
   "execution_count": 6,
   "id": "5284dbc4",
   "metadata": {},
   "outputs": [],
   "source": [
    "symbol = \"BTCUSDT\"\n",
    "bar_length = \"1m\"\n",
    "return_thresh = 0\n",
    "volume_thresh = [-3, 3]\n",
    "units = 0.01\n",
    "position = 0"
   ]
  },
  {
   "cell_type": "code",
   "execution_count": 7,
   "id": "0ed543e4",
   "metadata": {},
   "outputs": [
    {
     "data": {
      "text/plain": [
       "<__main__.LongOnlyTrader at 0x2a69c4837f0>"
      ]
     },
     "execution_count": 7,
     "metadata": {},
     "output_type": "execute_result"
    }
   ],
   "source": [
    "trader = LongOnlyTrader(symbol = symbol, bar_length = bar_length, return_thresh = return_thresh,\n",
    "                        volume_thresh = volume_thresh, units = units, position = position)\n",
    "trader"
   ]
  },
  {
   "cell_type": "code",
   "execution_count": 8,
   "id": "f6fe3a66",
   "metadata": {},
   "outputs": [
    {
     "name": "stdout",
     "output_type": "stream",
     "text": [
      "...................\n",
      "\n",
      "----------------------------------------------------------------------------------------------------\n",
      "2022-06-30 20:52:00.593000 | GOING LONG\n",
      "2022-06-30 20:52:00.593000 | Base_Units = 0.01 | Quote_Units = 186.9009 | Price = 18690.09 \n",
      "2022-06-30 20:52:00.593000 | Profit = 0 | CumProfits = 0.0 \n",
      "----------------------------------------------------------------------------------------------------\n",
      "\n",
      "......."
     ]
    }
   ],
   "source": [
    "trader.start_trading(historical_days = 1/24)"
   ]
  },
  {
   "cell_type": "code",
   "execution_count": 10,
   "id": "0f28ff42",
   "metadata": {},
   "outputs": [],
   "source": [
    "trader.twm.stop()"
   ]
  },
  {
   "cell_type": "code",
   "execution_count": 14,
   "id": "c90b8d55",
   "metadata": {},
   "outputs": [
    {
     "data": {
      "text/html": [
       "<div>\n",
       "<style scoped>\n",
       "    .dataframe tbody tr th:only-of-type {\n",
       "        vertical-align: middle;\n",
       "    }\n",
       "\n",
       "    .dataframe tbody tr th {\n",
       "        vertical-align: top;\n",
       "    }\n",
       "\n",
       "    .dataframe thead th {\n",
       "        text-align: right;\n",
       "    }\n",
       "</style>\n",
       "<table border=\"1\" class=\"dataframe\">\n",
       "  <thead>\n",
       "    <tr style=\"text-align: right;\">\n",
       "      <th></th>\n",
       "      <th>Close</th>\n",
       "      <th>Volume</th>\n",
       "      <th>returns</th>\n",
       "      <th>vol_ch</th>\n",
       "      <th>position</th>\n",
       "    </tr>\n",
       "    <tr>\n",
       "      <th>Date</th>\n",
       "      <th></th>\n",
       "      <th></th>\n",
       "      <th></th>\n",
       "      <th></th>\n",
       "      <th></th>\n",
       "    </tr>\n",
       "  </thead>\n",
       "  <tbody>\n",
       "    <tr>\n",
       "      <th>2022-06-30 17:35:00</th>\n",
       "      <td>19174.10</td>\n",
       "      <td>44.49322</td>\n",
       "      <td>0.001383</td>\n",
       "      <td>0.168652</td>\n",
       "      <td>0</td>\n",
       "    </tr>\n",
       "    <tr>\n",
       "      <th>2022-06-30 17:36:00</th>\n",
       "      <td>19187.79</td>\n",
       "      <td>40.69518</td>\n",
       "      <td>0.000714</td>\n",
       "      <td>-0.089227</td>\n",
       "      <td>0</td>\n",
       "    </tr>\n",
       "    <tr>\n",
       "      <th>2022-06-30 17:37:00</th>\n",
       "      <td>19194.54</td>\n",
       "      <td>76.30077</td>\n",
       "      <td>0.000352</td>\n",
       "      <td>0.628573</td>\n",
       "      <td>0</td>\n",
       "    </tr>\n",
       "    <tr>\n",
       "      <th>2022-06-30 17:38:00</th>\n",
       "      <td>19182.92</td>\n",
       "      <td>23.52025</td>\n",
       "      <td>-0.000606</td>\n",
       "      <td>-1.176821</td>\n",
       "      <td>1</td>\n",
       "    </tr>\n",
       "    <tr>\n",
       "      <th>2022-06-30 17:39:00</th>\n",
       "      <td>19196.91</td>\n",
       "      <td>34.95943</td>\n",
       "      <td>0.000729</td>\n",
       "      <td>0.396326</td>\n",
       "      <td>0</td>\n",
       "    </tr>\n",
       "    <tr>\n",
       "      <th>2022-06-30 17:40:00</th>\n",
       "      <td>19211.60</td>\n",
       "      <td>59.24346</td>\n",
       "      <td>0.000765</td>\n",
       "      <td>0.527467</td>\n",
       "      <td>0</td>\n",
       "    </tr>\n",
       "    <tr>\n",
       "      <th>2022-06-30 17:41:00</th>\n",
       "      <td>19185.10</td>\n",
       "      <td>46.93174</td>\n",
       "      <td>-0.001380</td>\n",
       "      <td>-0.232961</td>\n",
       "      <td>1</td>\n",
       "    </tr>\n",
       "    <tr>\n",
       "      <th>2022-06-30 17:42:00</th>\n",
       "      <td>19157.58</td>\n",
       "      <td>76.74436</td>\n",
       "      <td>-0.001435</td>\n",
       "      <td>0.491786</td>\n",
       "      <td>1</td>\n",
       "    </tr>\n",
       "    <tr>\n",
       "      <th>2022-06-30 17:43:00</th>\n",
       "      <td>19144.05</td>\n",
       "      <td>44.68804</td>\n",
       "      <td>-0.000706</td>\n",
       "      <td>-0.540774</td>\n",
       "      <td>1</td>\n",
       "    </tr>\n",
       "    <tr>\n",
       "      <th>2022-06-30 17:44:00</th>\n",
       "      <td>19129.58</td>\n",
       "      <td>39.33028</td>\n",
       "      <td>-0.000756</td>\n",
       "      <td>-0.127711</td>\n",
       "      <td>1</td>\n",
       "    </tr>\n",
       "  </tbody>\n",
       "</table>\n",
       "</div>"
      ],
      "text/plain": [
       "                        Close    Volume   returns    vol_ch  position\n",
       "Date                                                                 \n",
       "2022-06-30 17:35:00  19174.10  44.49322  0.001383  0.168652         0\n",
       "2022-06-30 17:36:00  19187.79  40.69518  0.000714 -0.089227         0\n",
       "2022-06-30 17:37:00  19194.54  76.30077  0.000352  0.628573         0\n",
       "2022-06-30 17:38:00  19182.92  23.52025 -0.000606 -1.176821         1\n",
       "2022-06-30 17:39:00  19196.91  34.95943  0.000729  0.396326         0\n",
       "2022-06-30 17:40:00  19211.60  59.24346  0.000765  0.527467         0\n",
       "2022-06-30 17:41:00  19185.10  46.93174 -0.001380 -0.232961         1\n",
       "2022-06-30 17:42:00  19157.58  76.74436 -0.001435  0.491786         1\n",
       "2022-06-30 17:43:00  19144.05  44.68804 -0.000706 -0.540774         1\n",
       "2022-06-30 17:44:00  19129.58  39.33028 -0.000756 -0.127711         1"
      ]
     },
     "execution_count": 14,
     "metadata": {},
     "output_type": "execute_result"
    }
   ],
   "source": [
    "trader.prepared_data.tail(10)"
   ]
  },
  {
   "cell_type": "code",
   "execution_count": 15,
   "id": "d1cd2bf5",
   "metadata": {},
   "outputs": [
    {
     "data": {
      "text/plain": [
       "[-190.9462, 190.9769, -191.4762, 191.7042, -191.8292, 191.969, -191.851]"
      ]
     },
     "execution_count": 15,
     "metadata": {},
     "output_type": "execute_result"
    }
   ],
   "source": [
    "trader.trade_values"
   ]
  },
  {
   "cell_type": "code",
   "execution_count": 16,
   "id": "19043edb",
   "metadata": {},
   "outputs": [
    {
     "data": {
      "text/plain": [
       "-191.45250000000001"
      ]
     },
     "execution_count": 16,
     "metadata": {},
     "output_type": "execute_result"
    }
   ],
   "source": [
    "np.sum(trader.trade_values)"
   ]
  },
  {
   "cell_type": "code",
   "execution_count": 17,
   "id": "bb774d1f",
   "metadata": {},
   "outputs": [
    {
     "data": {
      "text/plain": [
       "{'makerCommission': 0,\n",
       " 'takerCommission': 0,\n",
       " 'buyerCommission': 0,\n",
       " 'sellerCommission': 0,\n",
       " 'canTrade': True,\n",
       " 'canWithdraw': False,\n",
       " 'canDeposit': False,\n",
       " 'updateTime': 1656610920434,\n",
       " 'accountType': 'SPOT',\n",
       " 'balances': [{'asset': 'BNB',\n",
       "   'free': '1000.00000000',\n",
       "   'locked': '0.00000000'},\n",
       "  {'asset': 'BTC', 'free': '1.01000000', 'locked': '0.00000000'},\n",
       "  {'asset': 'BUSD', 'free': '10000.00000000', 'locked': '0.00000000'},\n",
       "  {'asset': 'ETH', 'free': '100.00000000', 'locked': '0.00000000'},\n",
       "  {'asset': 'LTC', 'free': '500.00000000', 'locked': '0.00000000'},\n",
       "  {'asset': 'TRX', 'free': '500000.00000000', 'locked': '0.00000000'},\n",
       "  {'asset': 'USDT', 'free': '9808.66110668', 'locked': '0.00000000'},\n",
       "  {'asset': 'XRP', 'free': '50000.00000000', 'locked': '0.00000000'}],\n",
       " 'permissions': ['SPOT']}"
      ]
     },
     "execution_count": 17,
     "metadata": {},
     "output_type": "execute_result"
    }
   ],
   "source": [
    "client.get_account()"
   ]
  },
  {
   "cell_type": "code",
   "execution_count": 1,
   "id": "df9fc86d",
   "metadata": {},
   "outputs": [
    {
     "name": "stdout",
     "output_type": "stream",
     "text": [
      "Name: python-binance\n",
      "Version: 1.0.15\n",
      "Summary: Binance REST API python implementation\n",
      "Home-page: https://github.com/sammchardy/python-binance\n",
      "Author: Sam McHardy\n",
      "Author-email: \n",
      "License: MIT\n",
      "Location: c:\\users\\matt\\anaconda3\\lib\\site-packages\n",
      "Requires: aiohttp, dateparser, requests, six, ujson, websockets\n",
      "Required-by: \n",
      "Note: you may need to restart the kernel to use updated packages.\n"
     ]
    }
   ],
   "source": [
    "pip show python-binance"
   ]
  },
  {
   "cell_type": "code",
   "execution_count": null,
   "id": "45f9aba7",
   "metadata": {},
   "outputs": [],
   "source": []
  }
 ],
 "metadata": {
  "kernelspec": {
   "display_name": "Python 3",
   "language": "python",
   "name": "python3"
  },
  "language_info": {
   "codemirror_mode": {
    "name": "ipython",
    "version": 3
   },
   "file_extension": ".py",
   "mimetype": "text/x-python",
   "name": "python",
   "nbconvert_exporter": "python",
   "pygments_lexer": "ipython3",
   "version": "3.8.8"
  }
 },
 "nbformat": 4,
 "nbformat_minor": 5
}
